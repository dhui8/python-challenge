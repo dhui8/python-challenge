{
 "cells": [
  {
   "cell_type": "code",
   "execution_count": null,
   "metadata": {
    "collapsed": true
   },
   "outputs": [],
   "source": [
    "## David Hui\n",
    "## Feb 3, 2018"
   ]
  },
  {
   "cell_type": "code",
   "execution_count": null,
   "metadata": {
    "collapsed": true
   },
   "outputs": [],
   "source": [
    "## Step 1 - Data Engineering\n",
    "\n",
    "## The climate data for Hawaii is provided through two CSV files. Start by using\n",
    "## Python and Pandas to inspect the content of these files and clean the data.\n",
    "\n",
    "## * Create a Jupyter Notebook file called `data_engineering.ipynb` and use this to complete \n",
    "##   all of your Data Engineering tasks.\n",
    "\n",
    "## * Use Pandas to read in the measurement and station CSV files as DataFrames.\n",
    "\n",
    "## * Inspect the data for NaNs and missing values. You must decide what to do with this data.\n",
    "\n",
    "## * Save your cleaned CSV files with the prefix `clean_`.\n",
    "\n"
   ]
  },
  {
   "cell_type": "code",
   "execution_count": 2,
   "metadata": {
    "collapsed": true
   },
   "outputs": [],
   "source": [
    "# Dependencies\n",
    "# ----------------------------------\n",
    "\n",
    "\n",
    "import pandas as pd\n",
    "import numpy as np\n",
    "import matplotlib.pyplot as plt\n",
    "import json\n",
    "import time\n",
    "#import seaborn as sns\n"
   ]
  },
  {
   "cell_type": "code",
   "execution_count": 6,
   "metadata": {
    "collapsed": true
   },
   "outputs": [],
   "source": [
    "measurements_pd = pd.read_csv(\"Resources/hawaii_measurements.csv\")\n",
    "stations_pd = pd.read_csv(\"Resources/hawaii_stations.csv\")"
   ]
  },
  {
   "cell_type": "code",
   "execution_count": 7,
   "metadata": {},
   "outputs": [
    {
     "name": "stdout",
     "output_type": "stream",
     "text": [
      "           station        date  prcp  tobs\n",
      "0      USC00519397  2010-01-01  0.08    65\n",
      "1      USC00519397  2010-01-02  0.00    63\n",
      "2      USC00519397  2010-01-03  0.00    74\n",
      "3      USC00519397  2010-01-04  0.00    76\n",
      "4      USC00519397  2010-01-06   NaN    73\n",
      "5      USC00519397  2010-01-07  0.06    70\n",
      "6      USC00519397  2010-01-08  0.00    64\n",
      "7      USC00519397  2010-01-09  0.00    68\n",
      "8      USC00519397  2010-01-10  0.00    73\n",
      "9      USC00519397  2010-01-11  0.01    64\n",
      "10     USC00519397  2010-01-12  0.00    61\n",
      "11     USC00519397  2010-01-14  0.00    66\n",
      "12     USC00519397  2010-01-15  0.00    65\n",
      "13     USC00519397  2010-01-16  0.00    68\n",
      "14     USC00519397  2010-01-17  0.00    64\n",
      "15     USC00519397  2010-01-18  0.00    72\n",
      "16     USC00519397  2010-01-19  0.00    66\n",
      "17     USC00519397  2010-01-20  0.00    66\n",
      "18     USC00519397  2010-01-21  0.00    69\n",
      "19     USC00519397  2010-01-22  0.00    67\n",
      "20     USC00519397  2010-01-23  0.00    67\n",
      "21     USC00519397  2010-01-24  0.01    71\n",
      "22     USC00519397  2010-01-25  0.00    67\n",
      "23     USC00519397  2010-01-26  0.04    76\n",
      "24     USC00519397  2010-01-27  0.12    68\n",
      "25     USC00519397  2010-01-28  0.00    72\n",
      "26     USC00519397  2010-01-30   NaN    70\n",
      "27     USC00519397  2010-01-31  0.03    67\n",
      "28     USC00519397  2010-02-01  0.01    66\n",
      "29     USC00519397  2010-02-03   NaN    67\n",
      "...            ...         ...   ...   ...\n",
      "19520  USC00516128  2017-07-24  0.84    77\n",
      "19521  USC00516128  2017-07-25  0.30    79\n",
      "19522  USC00516128  2017-07-26  0.30    73\n",
      "19523  USC00516128  2017-07-27  0.00    75\n",
      "19524  USC00516128  2017-07-28  0.40    73\n",
      "19525  USC00516128  2017-07-29  0.30    77\n",
      "19526  USC00516128  2017-07-30  0.30    79\n",
      "19527  USC00516128  2017-07-31  0.00    74\n",
      "19528  USC00516128  2017-08-01   NaN    72\n",
      "19529  USC00516128  2017-08-02  0.25    80\n",
      "19530  USC00516128  2017-08-03  0.06    76\n",
      "19531  USC00516128  2017-08-05   NaN    77\n",
      "19532  USC00516128  2017-08-06   NaN    79\n",
      "19533  USC00516128  2017-08-07  0.05    78\n",
      "19534  USC00516128  2017-08-08  0.34    74\n",
      "19535  USC00516128  2017-08-09  0.15    71\n",
      "19536  USC00516128  2017-08-10  0.07    75\n",
      "19537  USC00516128  2017-08-11   NaN    72\n",
      "19538  USC00516128  2017-08-12  0.14    74\n",
      "19539  USC00516128  2017-08-13   NaN    80\n",
      "19540  USC00516128  2017-08-14  0.22    79\n",
      "19541  USC00516128  2017-08-15  0.42    70\n",
      "19542  USC00516128  2017-08-16  0.42    71\n",
      "19543  USC00516128  2017-08-17  0.13    72\n",
      "19544  USC00516128  2017-08-18   NaN    76\n",
      "19545  USC00516128  2017-08-19  0.09    71\n",
      "19546  USC00516128  2017-08-20   NaN    78\n",
      "19547  USC00516128  2017-08-21  0.56    76\n",
      "19548  USC00516128  2017-08-22  0.50    76\n",
      "19549  USC00516128  2017-08-23  0.45    76\n",
      "\n",
      "[19550 rows x 4 columns]\n"
     ]
    }
   ],
   "source": [
    "#print(measurements_pd)"
   ]
  },
  {
   "cell_type": "code",
   "execution_count": 11,
   "metadata": {},
   "outputs": [
    {
     "name": "stdout",
     "output_type": "stream",
     "text": [
      "           station        date  prcp  tobs\n",
      "0      USC00519397  2010-01-01  0.08    65\n",
      "1      USC00519397  2010-01-02  0.00    63\n",
      "2      USC00519397  2010-01-03  0.00    74\n",
      "3      USC00519397  2010-01-04  0.00    76\n",
      "4      USC00519397  2010-01-06  0.00    73\n",
      "5      USC00519397  2010-01-07  0.06    70\n",
      "6      USC00519397  2010-01-08  0.00    64\n",
      "7      USC00519397  2010-01-09  0.00    68\n",
      "8      USC00519397  2010-01-10  0.00    73\n",
      "9      USC00519397  2010-01-11  0.01    64\n",
      "10     USC00519397  2010-01-12  0.00    61\n",
      "11     USC00519397  2010-01-14  0.00    66\n",
      "12     USC00519397  2010-01-15  0.00    65\n",
      "13     USC00519397  2010-01-16  0.00    68\n",
      "14     USC00519397  2010-01-17  0.00    64\n",
      "15     USC00519397  2010-01-18  0.00    72\n",
      "16     USC00519397  2010-01-19  0.00    66\n",
      "17     USC00519397  2010-01-20  0.00    66\n",
      "18     USC00519397  2010-01-21  0.00    69\n",
      "19     USC00519397  2010-01-22  0.00    67\n",
      "20     USC00519397  2010-01-23  0.00    67\n",
      "21     USC00519397  2010-01-24  0.01    71\n",
      "22     USC00519397  2010-01-25  0.00    67\n",
      "23     USC00519397  2010-01-26  0.04    76\n",
      "24     USC00519397  2010-01-27  0.12    68\n",
      "25     USC00519397  2010-01-28  0.00    72\n",
      "26     USC00519397  2010-01-30  0.00    70\n",
      "27     USC00519397  2010-01-31  0.03    67\n",
      "28     USC00519397  2010-02-01  0.01    66\n",
      "29     USC00519397  2010-02-03  0.00    67\n",
      "...            ...         ...   ...   ...\n",
      "19520  USC00516128  2017-07-24  0.84    77\n",
      "19521  USC00516128  2017-07-25  0.30    79\n",
      "19522  USC00516128  2017-07-26  0.30    73\n",
      "19523  USC00516128  2017-07-27  0.00    75\n",
      "19524  USC00516128  2017-07-28  0.40    73\n",
      "19525  USC00516128  2017-07-29  0.30    77\n",
      "19526  USC00516128  2017-07-30  0.30    79\n",
      "19527  USC00516128  2017-07-31  0.00    74\n",
      "19528  USC00516128  2017-08-01  0.00    72\n",
      "19529  USC00516128  2017-08-02  0.25    80\n",
      "19530  USC00516128  2017-08-03  0.06    76\n",
      "19531  USC00516128  2017-08-05  0.00    77\n",
      "19532  USC00516128  2017-08-06  0.00    79\n",
      "19533  USC00516128  2017-08-07  0.05    78\n",
      "19534  USC00516128  2017-08-08  0.34    74\n",
      "19535  USC00516128  2017-08-09  0.15    71\n",
      "19536  USC00516128  2017-08-10  0.07    75\n",
      "19537  USC00516128  2017-08-11  0.00    72\n",
      "19538  USC00516128  2017-08-12  0.14    74\n",
      "19539  USC00516128  2017-08-13  0.00    80\n",
      "19540  USC00516128  2017-08-14  0.22    79\n",
      "19541  USC00516128  2017-08-15  0.42    70\n",
      "19542  USC00516128  2017-08-16  0.42    71\n",
      "19543  USC00516128  2017-08-17  0.13    72\n",
      "19544  USC00516128  2017-08-18  0.00    76\n",
      "19545  USC00516128  2017-08-19  0.09    71\n",
      "19546  USC00516128  2017-08-20  0.00    78\n",
      "19547  USC00516128  2017-08-21  0.56    76\n",
      "19548  USC00516128  2017-08-22  0.50    76\n",
      "19549  USC00516128  2017-08-23  0.45    76\n",
      "\n",
      "[19550 rows x 4 columns]\n"
     ]
    }
   ],
   "source": [
    "measurements_pd.prcp = measurements_pd.prcp.fillna(0.00)\n",
    "\n",
    "clean_measurements_pd = measurements_pd.copy()\n",
    "\n",
    "#print(clean_measurements_pd)\n",
    "clean_measurements_pd.to_csv(\"Resources/clean_measurements.csv\")"
   ]
  },
  {
   "cell_type": "code",
   "execution_count": 15,
   "metadata": {},
   "outputs": [
    {
     "name": "stdout",
     "output_type": "stream",
     "text": [
      "       station                                    name  latitude  longitude  \\\n",
      "0  USC00519397                    WAIKIKI 717.2, HI US  21.27160 -157.81680   \n",
      "1  USC00513117                    KANEOHE 838.1, HI US  21.42340 -157.80150   \n",
      "2  USC00514830  KUALOA RANCH HEADQUARTERS 886.9, HI US  21.52130 -157.83740   \n",
      "3  USC00517948                       PEARL CITY, HI US  21.39340 -157.97510   \n",
      "4  USC00518838              UPPER WAHIAWA 874.3, HI US  21.49920 -158.01110   \n",
      "5  USC00519523      WAIMANALO EXPERIMENTAL FARM, HI US  21.33556 -157.71139   \n",
      "6  USC00519281                     WAIHEE 837.5, HI US  21.45167 -157.84889   \n",
      "7  USC00511918       HONOLULU OBSERVATORY 702.2, HI US  21.31520 -157.99920   \n",
      "8  USC00516128            MANOA LYON ARBO 785.2, HI US  21.33310 -157.80250   \n",
      "\n",
      "   elevation  \n",
      "0        3.0  \n",
      "1       14.6  \n",
      "2        7.0  \n",
      "3       11.9  \n",
      "4      306.6  \n",
      "5       19.5  \n",
      "6       32.9  \n",
      "7        0.9  \n",
      "8      152.4  \n"
     ]
    }
   ],
   "source": [
    "print(stations_pd)\n",
    "clean_stations_pd = stations_pd.copy()\n",
    "clean_stations_pd.to_csv(\"Resources/clean_stations.csv\")"
   ]
  }
 ],
 "metadata": {
  "kernelspec": {
   "display_name": "Python 3",
   "language": "python",
   "name": "python3"
  },
  "language_info": {
   "codemirror_mode": {
    "name": "ipython",
    "version": 3
   },
   "file_extension": ".py",
   "mimetype": "text/x-python",
   "name": "python",
   "nbconvert_exporter": "python",
   "pygments_lexer": "ipython3",
   "version": "3.6.3"
  }
 },
 "nbformat": 4,
 "nbformat_minor": 2
}
