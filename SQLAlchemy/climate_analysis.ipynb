{
 "cells": [
  {
   "cell_type": "code",
   "execution_count": null,
   "metadata": {
    "collapsed": true
   },
   "outputs": [],
   "source": [
    "## David Hui\n",
    "## 02/03/2018"
   ]
  },
  {
   "cell_type": "code",
   "execution_count": 35,
   "metadata": {},
   "outputs": [],
   "source": [
    "from sqlalchemy import create_engine\n",
    "from sqlalchemy import inspect\n",
    "\n",
    "from sqlalchemy.ext.declarative import  declarative_base\n",
    "from sqlalchemy.ext.automap import  automap_base\n",
    "\n",
    "\n",
    "Base = declarative_base()\n",
    "\n",
    "from sqlalchemy import Column, Integer, String, Float, DateTime\n",
    "\n",
    "import pandas as ps\n",
    "import matplotlib as plt"
   ]
  },
  {
   "cell_type": "code",
   "execution_count": 36,
   "metadata": {},
   "outputs": [
    {
     "data": {
      "text/plain": [
       "['measure', 'station']"
      ]
     },
     "execution_count": 36,
     "metadata": {},
     "output_type": "execute_result"
    }
   ],
   "source": [
    "from sqlalchemy.orm import Session\n",
    "\n",
    "engine = create_engine(\"sqlite:///Resources/hawaii.sqlite\")\n",
    "Base = automap_base()\n",
    "Base.prepare(engine,reflect=True)\n",
    "Base.classes.keys()"
   ]
  },
  {
   "cell_type": "code",
   "execution_count": 21,
   "metadata": {
    "collapsed": true
   },
   "outputs": [],
   "source": [
    "Base.metadata.create_all(engine)\n",
    "session = Session(bind=engine)"
   ]
  },
  {
   "cell_type": "code",
   "execution_count": 22,
   "metadata": {},
   "outputs": [],
   "source": [
    "Stations = Base.classes.station\n",
    "Measures = Base.classes.measure"
   ]
  },
  {
   "cell_type": "code",
   "execution_count": 73,
   "metadata": {},
   "outputs": [
    {
     "name": "stdout",
     "output_type": "stream",
     "text": [
      "['station.id', 'station.station', 'station.name', 'station.latitude', 'station.longitude']\n"
     ]
    }
   ],
   "source": [
    "print(Stations.__table__.columns)"
   ]
  },
  {
   "cell_type": "code",
   "execution_count": 23,
   "metadata": {},
   "outputs": [
    {
     "name": "stdout",
     "output_type": "stream",
     "text": [
      "<sqlalchemy.ext.automap.station object at 0x0000000009D2EE48>\n",
      "<sqlalchemy.ext.automap.station object at 0x0000000009D2EDA0>\n",
      "<sqlalchemy.ext.automap.station object at 0x0000000009D2E080>\n",
      "<sqlalchemy.ext.automap.station object at 0x0000000009D2ECC0>\n",
      "<sqlalchemy.ext.automap.station object at 0x0000000009D2EE80>\n",
      "<sqlalchemy.ext.automap.station object at 0x0000000009D2EC50>\n",
      "<sqlalchemy.ext.automap.station object at 0x0000000009D37128>\n",
      "<sqlalchemy.ext.automap.station object at 0x0000000009D371D0>\n",
      "<sqlalchemy.ext.automap.station object at 0x0000000009D37278>\n"
     ]
    }
   ],
   "source": [
    "for row in session.query(Stations).all():\n",
    "    print(row)"
   ]
  }
 ],
 "metadata": {
  "kernelspec": {
   "display_name": "Python 3",
   "language": "python",
   "name": "python3"
  },
  "language_info": {
   "codemirror_mode": {
    "name": "ipython",
    "version": 3
   },
   "file_extension": ".py",
   "mimetype": "text/x-python",
   "name": "python",
   "nbconvert_exporter": "python",
   "pygments_lexer": "ipython3",
   "version": "3.6.3"
  }
 },
 "nbformat": 4,
 "nbformat_minor": 2
}
